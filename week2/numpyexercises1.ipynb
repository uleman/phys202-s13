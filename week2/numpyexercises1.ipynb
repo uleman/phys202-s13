{
 "metadata": {
  "name": "numpyexercises1"
 },
 "nbformat": 3,
 "nbformat_minor": 0,
 "worksheets": [
  {
   "cells": [
    {
     "cell_type": "markdown",
     "metadata": {},
     "source": [
      "numpy exercises 1"
     ]
    },
    {
     "cell_type": "code",
     "collapsed": false,
     "input": [
      "#1\n",
      "a=np.ones((4,4))"
     ],
     "language": "python",
     "metadata": {},
     "outputs": [],
     "prompt_number": 7
    },
    {
     "cell_type": "code",
     "collapsed": false,
     "input": [
      "a"
     ],
     "language": "python",
     "metadata": {},
     "outputs": [
      {
       "output_type": "pyout",
       "prompt_number": 8,
       "text": [
        "array([[ 1.,  1.,  1.,  1.],\n",
        "       [ 1.,  1.,  1.,  1.],\n",
        "       [ 1.,  1.,  1.,  1.],\n",
        "       [ 1.,  1.,  1.,  1.]])"
       ]
      }
     ],
     "prompt_number": 8
    },
    {
     "cell_type": "code",
     "collapsed": false,
     "input": [
      "a[3,1]=6\n",
      "a[2,3]=2\n",
      "a[3,2]=1"
     ],
     "language": "python",
     "metadata": {},
     "outputs": [],
     "prompt_number": 14
    },
    {
     "cell_type": "code",
     "collapsed": false,
     "input": [
      "a"
     ],
     "language": "python",
     "metadata": {},
     "outputs": [
      {
       "output_type": "pyout",
       "prompt_number": 15,
       "text": [
        "array([[ 1.,  1.,  1.,  1.],\n",
        "       [ 1.,  1.,  1.,  1.],\n",
        "       [ 1.,  1.,  1.,  2.],\n",
        "       [ 1.,  6.,  1.,  1.]])"
       ]
      }
     ],
     "prompt_number": 15
    },
    {
     "cell_type": "code",
     "collapsed": false,
     "input": [
      "#part b\n",
      "b=np.diag(np.arange(1,7))"
     ],
     "language": "python",
     "metadata": {},
     "outputs": [],
     "prompt_number": 18
    },
    {
     "cell_type": "code",
     "collapsed": false,
     "input": [
      "b"
     ],
     "language": "python",
     "metadata": {},
     "outputs": [
      {
       "output_type": "pyout",
       "prompt_number": 19,
       "text": [
        "array([[1, 0, 0, 0, 0, 0],\n",
        "       [0, 2, 0, 0, 0, 0],\n",
        "       [0, 0, 3, 0, 0, 0],\n",
        "       [0, 0, 0, 4, 0, 0],\n",
        "       [0, 0, 0, 0, 5, 0],\n",
        "       [0, 0, 0, 0, 0, 6]])"
       ]
      }
     ],
     "prompt_number": 19
    },
    {
     "cell_type": "code",
     "collapsed": false,
     "input": [
      "b[0:,1:]"
     ],
     "language": "python",
     "metadata": {},
     "outputs": [
      {
       "output_type": "pyout",
       "prompt_number": 29,
       "text": [
        "array([[0, 0, 0, 0, 0],\n",
        "       [2, 0, 0, 0, 0],\n",
        "       [0, 3, 0, 0, 0],\n",
        "       [0, 0, 4, 0, 0],\n",
        "       [0, 0, 0, 5, 0],\n",
        "       [0, 0, 0, 0, 6]])"
       ]
      }
     ],
     "prompt_number": 29
    },
    {
     "cell_type": "code",
     "collapsed": false,
     "input": [
      "c=np.array([[4,3],[2,1],[4,3],[2,1]])"
     ],
     "language": "python",
     "metadata": {},
     "outputs": [],
     "prompt_number": 31
    },
    {
     "cell_type": "code",
     "collapsed": false,
     "input": [
      "np.tile(c,3)"
     ],
     "language": "python",
     "metadata": {},
     "outputs": [
      {
       "output_type": "pyout",
       "prompt_number": 33,
       "text": [
        "array([[4, 3, 4, 3, 4, 3],\n",
        "       [2, 1, 2, 1, 2, 1],\n",
        "       [4, 3, 4, 3, 4, 3],\n",
        "       [2, 1, 2, 1, 2, 1]])"
       ]
      }
     ],
     "prompt_number": 33
    },
    {
     "cell_type": "code",
     "collapsed": false,
     "input": [],
     "language": "python",
     "metadata": {},
     "outputs": []
    }
   ],
   "metadata": {}
  }
 ]
}