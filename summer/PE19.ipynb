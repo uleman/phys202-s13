{
 "metadata": {
  "name": "PE19"
 },
 "nbformat": 3,
 "nbformat_minor": 0,
 "worksheets": [
  {
   "cells": [
    {
     "cell_type": "code",
     "collapsed": false,
     "input": [
      "import datetime\n"
     ],
     "language": "python",
     "metadata": {},
     "outputs": [],
     "prompt_number": 2
    },
    {
     "cell_type": "code",
     "collapsed": false,
     "input": [
      "def appxdaysyrs(n):\n",
      "    print 365*n + n/4 \n"
     ],
     "language": "python",
     "metadata": {},
     "outputs": [],
     "prompt_number": 3
    },
    {
     "cell_type": "code",
     "collapsed": false,
     "input": [
      "appxdaysyrs(100)"
     ],
     "language": "python",
     "metadata": {},
     "outputs": [
      {
       "output_type": "stream",
       "stream": "stdout",
       "text": [
        "36525\n"
       ]
      }
     ],
     "prompt_number": 4
    },
    {
     "cell_type": "code",
     "collapsed": false,
     "input": [
      "def normalyr(n):\n",
      "    k=0\n",
      "    jan=31\n",
      "    feb=28\n",
      "    mar=31\n",
      "    apr=30\n",
      "    may=31\n",
      "    jun=30\n",
      "    jul=31\n",
      "    aug=31\n",
      "    sep=30\n",
      "    ocb=31\n",
      "    nov=30\n",
      "    dec=31\n",
      "    janr=(jan+(7-n))%7\n",
      "    if janr == 6:\n",
      "        k+=1\n",
      "    febr = (feb+(7-janr))%7\n",
      "    if febr == 6:\n",
      "        k+=1\n",
      "    marr = (mar+(7-febr))%7\n",
      "    if marr==6:\n",
      "        k+=1\n",
      "    aprr = (apr +(7-marr))%7\n",
      "    if aprr == 6:\n",
      "        k+=1\n",
      "    mayr = (may +(7-aprr))%7\n",
      "    if mayr==6:\n",
      "        k+=1\n",
      "    junr=(jun+(7-mayr))%7\n",
      "    if junr==6:\n",
      "        k+=1\n",
      "    julr=(jul+(7-junr))%7\n",
      "    if julr==6:\n",
      "        k+=1\n",
      "    augr=(aug+(7-julr))%7\n",
      "    if augr==6:\n",
      "        k+=1\n",
      "    sepr=(sep+(7-augr))%7\n",
      "    if sepr==6:\n",
      "        k+=1\n",
      "    ocbr=(ocb+(7-sepr))%7\n",
      "    if ocbr==6:\n",
      "        k+=1\n",
      "    novr=(nov+(7-ocbr))%7\n",
      "    if novr==6:\n",
      "        k+=1\n",
      "    g=(dec+(7-novr))%7\n",
      "    return g,k\n"
     ],
     "language": "python",
     "metadata": {},
     "outputs": [],
     "prompt_number": 81
    },
    {
     "cell_type": "code",
     "collapsed": false,
     "input": [
      "def leapyr(n):\n",
      "    k=0\n",
      "    jan=31\n",
      "    feb=29\n",
      "    mar=31\n",
      "    apr=30\n",
      "    may=31\n",
      "    jun=30\n",
      "    jul=31\n",
      "    aug=31\n",
      "    sep=30\n",
      "    ocb=31\n",
      "    nov=30\n",
      "    dec=31\n",
      "    janr=(jan+(7-n))%7\n",
      "    if janr == 6:\n",
      "        k+=1\n",
      "    febr = (feb+(7-janr))%7\n",
      "    if febr == 6:\n",
      "        k+=1\n",
      "    marr = (mar+(7-febr))%7\n",
      "    if marr==6:\n",
      "        k+=1\n",
      "    aprr = (apr + (7-marr))%7\n",
      "    if aprr == 6:\n",
      "        k+=1\n",
      "    mayr = (may +(7-aprr))%7\n",
      "    if mayr==6:\n",
      "        k+=1\n",
      "    junr=(jun+(7-mayr))%7\n",
      "    if junr==6:\n",
      "        k+=1\n",
      "    julr=(jul+(7-junr))%7\n",
      "    if julr==6:\n",
      "        k+=1\n",
      "    augr=(aug+(7-julr))%7\n",
      "    if augr==6:\n",
      "        k+=1\n",
      "    sepr=(sep+(7-augr))%7\n",
      "    if sepr==6:\n",
      "        k+=1\n",
      "    ocbr=(ocb+(7-sepr))%7\n",
      "    if ocbr==6:\n",
      "        k+=1\n",
      "    novr=(nov+(7-ocbr))%7\n",
      "    if novr==6:\n",
      "        k+=1\n",
      "    g=(dec+(7-novr))%7\n",
      "    print janr,febr,marr,aprr,mayr,junr\n",
      "    return g,k\n",
      "    print febr,marr,aprr,mayr,junr"
     ],
     "language": "python",
     "metadata": {},
     "outputs": [],
     "prompt_number": 72
    },
    {
     "cell_type": "code",
     "collapsed": false,
     "input": [
      "normalyr(4)"
     ],
     "language": "python",
     "metadata": {},
     "outputs": [
      {
       "output_type": "pyout",
       "prompt_number": 90,
       "text": [
        "(1, 3)"
       ]
      }
     ],
     "prompt_number": 90
    },
    {
     "cell_type": "code",
     "collapsed": false,
     "input": [
      "def runyears(n,l,g,k,j):\n",
      "    if l%4==0 and n>0:\n",
      "        g,k = leapyr(g)\n",
      "        j+=k\n",
      "        l+=1\n",
      "        runyears(n-1,l,g,k,j)\n",
      "    elif l%4!=0 and n>0:\n",
      "        g,k = normalyr(g)\n",
      "        j+=k\n",
      "        l+=1\n",
      "        runyears(n-1,l,g,k,j)\n",
      "    elif n==0:\n",
      "        print j\n",
      "def run(y,l):\n",
      "    q,w = normalyr(0)\n",
      "    z=0\n",
      "    z+=w\n",
      "    l+=1\n",
      "    runyears(y-1,l,q,w,z)"
     ],
     "language": "python",
     "metadata": {},
     "outputs": [],
     "prompt_number": 98
    },
    {
     "cell_type": "code",
     "collapsed": false,
     "input": [
      "run(100,1901)"
     ],
     "language": "python",
     "metadata": {},
     "outputs": [
      {
       "output_type": "stream",
       "stream": "stdout",
       "text": [
        "5 3 0 2 1 1\n",
        "2 6 4 5 5 4\n",
        "6 2 1 1 2 0\n",
        "3 5 5 4 6 3\n",
        "0 1 2 0 3 6\n",
        "4 4 6 3 0 2\n",
        "1 0 3 6 4 5\n",
        "5 3 0 2 1 1\n",
        "2 6 4 5 5 4\n",
        "6 2 1 1 2 0\n",
        "3 5 5 4 6 3\n",
        "0 1 2 0 3 6\n",
        "4 4 6 3 0 2\n",
        "1 0 3 6 4 5\n",
        "5 3 0 2 1 1\n",
        "2 6 4 5 5 4\n",
        "6 2 1 1 2 0\n",
        "3 5 5 4 6 3\n",
        "0 1 2 0 3 6\n",
        "4 4 6 3 0 2\n",
        "1 0 3 6 4 5\n",
        "5 3 0 2 1 1\n",
        "2 6 4 5 5 4\n",
        "6 2 1 1 2 0\n",
        "3 5 5 4 6 3\n",
        "159\n"
       ]
      }
     ],
     "prompt_number": 100
    },
    {
     "cell_type": "code",
     "collapsed": false,
     "input": [],
     "language": "python",
     "metadata": {},
     "outputs": []
    }
   ],
   "metadata": {}
  }
 ]
}