{
 "metadata": {
  "name": "PE4"
 },
 "nbformat": 3,
 "nbformat_minor": 0,
 "worksheets": [
  {
   "cells": [
    {
     "cell_type": "code",
     "collapsed": false,
     "input": [
      "def palindrome(n):\n",
      "    n=str(n)\n",
      "    for i in range(0,4,1):\n",
      "        j = n[i]\n",
      "        k=n[-i-1]\n",
      "        print j,k\n",
      "                  \n",
      "    \n",
      "        \n",
      "   "
     ],
     "language": "python",
     "metadata": {},
     "outputs": [],
     "prompt_number": 2
    },
    {
     "cell_type": "code",
     "collapsed": false,
     "input": [
      "palindrome(9009)"
     ],
     "language": "python",
     "metadata": {},
     "outputs": [
      {
       "output_type": "stream",
       "stream": "stdout",
       "text": [
        "9 9\n",
        "0 0\n",
        "0 0\n",
        "9 9\n"
       ]
      }
     ],
     "prompt_number": 3
    },
    {
     "cell_type": "code",
     "collapsed": false,
     "input": [
      "def palindrome(n):\n",
      "    n=str(n)\n",
      "    for i in range(0,10,1):\n",
      "        j = n[i]\n",
      "        k=n[-i-1]\n",
      "        print j,k\n",
      "        if j==k:\n",
      "            return True\n",
      "        if j!=k: \n",
      "            return False\n",
      "                  "
     ],
     "language": "python",
     "metadata": {},
     "outputs": [],
     "prompt_number": 4
    },
    {
     "cell_type": "code",
     "collapsed": false,
     "input": [
      "palindrome(8889080)"
     ],
     "language": "python",
     "metadata": {},
     "outputs": [
      {
       "output_type": "stream",
       "stream": "stdout",
       "text": [
        "8 0\n"
       ]
      },
      {
       "output_type": "pyout",
       "prompt_number": 5,
       "text": [
        "False"
       ]
      }
     ],
     "prompt_number": 5
    },
    {
     "cell_type": "code",
     "collapsed": false,
     "input": [
      "def palindrome(n):\n",
      "    n=str(n)\n",
      "    for i in range(0,10,1):\n",
      "        def pal(x):\n",
      "            j=n[i+x]\n",
      "            k=n[-i-1-x]\n",
      "            print j,k\n",
      "            if j==k:\n",
      "                pal(x+1)\n",
      "            if (-i-1-x)==(i+x):\n",
      "                return True\n",
      "            if j!=k:\n",
      "                return False\n",
      "            pal(0)\n",
      "                  "
     ],
     "language": "python",
     "metadata": {},
     "outputs": [],
     "prompt_number": 6
    },
    {
     "cell_type": "code",
     "collapsed": false,
     "input": [
      "palindrome(98893239)"
     ],
     "language": "python",
     "metadata": {},
     "outputs": [],
     "prompt_number": 7
    },
    {
     "cell_type": "code",
     "collapsed": false,
     "input": [
      "\n",
      "pal(0)"
     ],
     "language": "python",
     "metadata": {},
     "outputs": [
      {
       "ename": "NameError",
       "evalue": "name 'pal' is not defined",
       "output_type": "pyerr",
       "traceback": [
        "\u001b[1;31m---------------------------------------------------------------------------\u001b[0m\n\u001b[1;31mNameError\u001b[0m                                 Traceback (most recent call last)",
        "\u001b[1;32m<ipython-input-8-fe2999d2c50e>\u001b[0m in \u001b[0;36m<module>\u001b[1;34m()\u001b[0m\n\u001b[0;32m      1\u001b[0m \u001b[1;33m\u001b[0m\u001b[0m\n\u001b[1;32m----> 2\u001b[1;33m \u001b[0mpal\u001b[0m\u001b[1;33m(\u001b[0m\u001b[1;36m0\u001b[0m\u001b[1;33m)\u001b[0m\u001b[1;33m\u001b[0m\u001b[0m\n\u001b[0m",
        "\u001b[1;31mNameError\u001b[0m: name 'pal' is not defined"
       ]
      }
     ],
     "prompt_number": 8
    },
    {
     "cell_type": "code",
     "collapsed": false,
     "input": [
      "def pal2(n):\n",
      "    n= str(n)\n",
      "    if n[:]==n[::-1]:\n",
      "        return True\n",
      "    if n[:]!=n[::-1]:\n",
      "        return False"
     ],
     "language": "python",
     "metadata": {},
     "outputs": [],
     "prompt_number": 9
    },
    {
     "cell_type": "code",
     "collapsed": false,
     "input": [
      "pal2(9383201991023839)"
     ],
     "language": "python",
     "metadata": {},
     "outputs": [
      {
       "output_type": "pyout",
       "prompt_number": 10,
       "text": [
        "True"
       ]
      }
     ],
     "prompt_number": 10
    },
    {
     "cell_type": "code",
     "collapsed": false,
     "input": [
      "def fxn(x,y):\n",
      "    if pal2(x*y)==True:\n",
      "        print x,y,x*y\n",
      "        return  True\n",
      "    else:\n",
      "        return False\n",
      "    "
     ],
     "language": "python",
     "metadata": {},
     "outputs": [],
     "prompt_number": 15
    },
    {
     "cell_type": "code",
     "collapsed": false,
     "input": [
      "fxn(91,99)"
     ],
     "language": "python",
     "metadata": {},
     "outputs": [
      {
       "output_type": "stream",
       "stream": "stdout",
       "text": [
        "91 99 9009\n"
       ]
      },
      {
       "output_type": "pyout",
       "prompt_number": 16,
       "text": [
        "True"
       ]
      }
     ],
     "prompt_number": 16
    },
    {
     "cell_type": "code",
     "collapsed": false,
     "input": [
      "def hoops(o,p):\n",
      "    i=0\n",
      "    j=0\n",
      "    i+=o\n",
      "    j+=p\n",
      "    if fxn(i,j)==True or i==999:\n",
      "        print i,j\n",
      "    elif fxn(i,j)==False and j>100:\n",
      "        j-=1\n",
      "        hoops(i,j)\n",
      "    elif fxn(i,j)==False and j==100:\n",
      "        i-=1\n",
      "        j+=900\n",
      "        hoops(i,j)"
     ],
     "language": "python",
     "metadata": {},
     "outputs": [],
     "prompt_number": 13
    },
    {
     "cell_type": "code",
     "collapsed": false,
     "input": [
      "hoops(1000,1000)"
     ],
     "language": "python",
     "metadata": {},
     "outputs": [
      {
       "output_type": "stream",
       "stream": "stdout",
       "text": [
        "999 1000\n"
       ]
      }
     ],
     "prompt_number": 14
    },
    {
     "cell_type": "code",
     "collapsed": false,
     "input": [],
     "language": "python",
     "metadata": {},
     "outputs": [],
     "prompt_number": 14
    }
   ],
   "metadata": {}
  }
 ]
}