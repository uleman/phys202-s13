{
 "metadata": {
  "name": "Untitled0"
 },
 "nbformat": 3,
 "nbformat_minor": 0,
 "worksheets": [
  {
   "cells": [
    {
     "cell_type": "code",
     "collapsed": false,
     "input": [
      "def LinearLeastSquaresFit(x,y)\n",
      "    \"\"\"takes input arrays of x and y and returns slope and intercept with corre\"\"\"\n",
      "    x_avg = (1/float(len(x)))*sum(x)\n",
      "    x_sqr_avg = (1/float(len(x)))*sum(x**2)\n",
      "    y_avg = (1/float(len(x)))*sum(y)\n",
      "    xy_avg = (1/float(len(x)))*sum(x*y)\n",
      "    slope = (xy_avg - x_avg*y_avg)/(x_sqr_avg - x_avg**2)\n",
      "    intercept = (x_sqr_avg * y_avg - x_avg*xy_avg)/(x_sqr_avg - x_avg**2)\n",
      "    delta_sqr_avg = (1/float(len(x)))*(sum((y-(slope*x+intercept))**2))\n",
      "    slope_error = (1/(float(len(x)-2)))**(1/2.)*(delta_sqr_avg/(x_sqr_avg - x_avg)$\n",
      "    intercept_error = (1/(float(len(x)-2)))**(1/2.)*((delta_sqr_avg*x_sqr_avg)/$\n",
      "    return slope,intercept,slope_error,intercept_error\n",
      "\n",
      "\n",
      "\n",
      "def WeightedLinearLeastSquaresFit(x,y,w):\n",
      "    \"\"\" takes input arrays of x,y, and w and returns slope,slope error,intercep\"\"\"\n",
      "    \"\"\"remember w is 1/(u^2) where u is the uncertainty\"\"\"\n",
      "    w_sum = sum(w)\n",
      "    wy_sum = sum(w*y)\n",
      "    wx_sum = sum(w*x)\n",
      "    wxy_sum = sum(w*x*y)\n",
      "    w_x_sqr_sum = sum(w*(x**2))\n",
      "    wx_sum_sqr = (sum(w*x))**2\n",
      "    intercept_ = (w_x_sqr_sum*wy_sum - wx_sum*wxy_sum)/(w_sum*w_x_sqr_sum - wx_sum)\n",
      "    slope_ = (w_sum*wxy_sum - wx_sum*wy_sum)/(w_sum*w_x_sqr_sum - wx_sum_sqr)\n",
      "    slope_error_ = ((w_sum)/(w_sum*w_x_sqr_sum - wx_sum_sqr))**(1/2.)\n",
      "    intercept_error_ = ((w_x_sqr_sum)/(w_sum*w_x_sqr_sum - wx_sum_sqr))**(1/2.)\n",
      "    return slope_,slope_error_,intercept_,intercept_error_"
     ],
     "language": "python",
     "metadata": {},
     "outputs": []
    }
   ],
   "metadata": {}
  }
 ]
}