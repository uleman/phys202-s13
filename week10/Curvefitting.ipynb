{
 "metadata": {
  "name": "Curvefitting"
 },
 "nbformat": 3,
 "nbformat_minor": 0,
 "worksheets": [
  {
   "cells": [
    {
     "cell_type": "code",
     "collapsed": false,
     "input": [
      "t,N = loadtxt('radio.dat',unpack=True)"
     ],
     "language": "python",
     "metadata": {},
     "outputs": [],
     "prompt_number": 1
    },
    {
     "cell_type": "code",
     "collapsed": false,
     "input": [
      "t"
     ],
     "language": "python",
     "metadata": {},
     "outputs": [
      {
       "output_type": "pyout",
       "prompt_number": 2,
       "text": [
        "array([  0.,   1.,   2.,   3.,   4.,   5.,   6.,   7.,   8.,   9.,  10.,\n",
        "        11.,  12.,  13.,  14.,  15.])"
       ]
      }
     ],
     "prompt_number": 2
    },
    {
     "cell_type": "code",
     "collapsed": false,
     "input": [
      "t[1:]"
     ],
     "language": "python",
     "metadata": {},
     "outputs": [
      {
       "output_type": "pyout",
       "prompt_number": 3,
       "text": [
        "array([  1.,   2.,   3.,   4.,   5.,   6.,   7.,   8.,   9.,  10.,  11.,\n",
        "        12.,  13.,  14.,  15.])"
       ]
      }
     ],
     "prompt_number": 3
    },
    {
     "cell_type": "code",
     "collapsed": false,
     "input": [
      "plot(t,N,)\n",
      "plot(t,log(N),'r')\n",
      "xlabel('N(remaining)')\n",
      "ylabel('t(time)')"
     ],
     "language": "python",
     "metadata": {},
     "outputs": [
      {
       "output_type": "pyout",
       "prompt_number": 4,
       "text": [
        "<matplotlib.text.Text at 0x108175710>"
       ]
      },
      {
       "output_type": "display_data",
       "png": "[encoded data removed]"
      }
     ],
     "prompt_number": 4
    },
    {
     "cell_type": "code",
     "collapsed": false,
     "input": [
      "import numpy as np\n",
      "log(N)\n",
      "from curvefitting import linearleastsquaresfit"
     ],
     "language": "python",
     "metadata": {},
     "outputs": [
      {
       "ename": "SyntaxError",
       "evalue": "invalid syntax (curvefitting.py, line 17)",
       "output_type": "pyerr",
       "traceback": [
        "\u001b[0;36m  File \u001b[0;32m\"curvefitting.py\"\u001b[0;36m, line \u001b[0;32m17\u001b[0m\n\u001b[0;31m    \"\"\"takes input arrays of x and y and returns slope and intercept with corre$\n    x_avg = (1/float(len(x)))*sum(x)\n    x_sqr_avg = (1/float(len(x)))*sum(x**2)\n    y_avg = (1/float(len(x)))*sum(y)\n    xy_avg = (1/float(len(x)))*sum(x*y)\n    slope = (xy_avg - x_avg*y_avg)/(x_sqr_avg - x_avg**2)\n    intercept = (x_sqr_avg * y_avg - x_avg*xy_avg)/(x_sqr_avg - x_avg**2)\n    delta_sqr_avg = (1/float(len(x)))*(sum((y-(slope*x+intercept))**2))\n    slope_error = (1/(float(len(x)-2)))**(1/2.)*(delta_sqr_avg/(x_sqr_avg - x_a$\n    intercept_error = (1/(float(len(x)-2)))**(1/2.)*((delta_sqr_avg*x_sqr_avg)/$\n    return slope,intercept,slope_error,intercept_error\n\n\n\ndef WeightedLinearLeastSquaresFit(x,y,w):\n    \"\"\" takes input arrays of x,y, and w and returns slope,slope error,intercep$\u001b[0m\n\u001b[0m                                                                                \n                                    \n                                           \n                                    \n                                       \n                                                         \n                                                                         \n                                                                       \n                                                                                \n                                                                                \n                                                      \n\n\n\n                                         \n            ^\u001b[0m\n\u001b[0;31mSyntaxError\u001b[0m\u001b[0;31m:\u001b[0m invalid syntax\n"
       ]
      }
     ],
     "prompt_number": 11
    },
    {
     "cell_type": "code",
     "collapsed": false,
     "input": [
      "linearleastsquaresfit(t,log(N))"
     ],
     "language": "python",
     "metadata": {},
     "outputs": [],
     "prompt_number": 5
    },
    {
     "cell_type": "code",
     "collapsed": false,
     "input": [
      "#exercise 2\n",
      "wf2=load('waveform_2.npy')\n",
      "x=arange(len(wf2))"
     ],
     "language": "python",
     "metadata": {},
     "outputs": [],
     "prompt_number": 7
    },
    {
     "cell_type": "code",
     "collapsed": false,
     "input": [
      "plot(x,wf2)\n",
      "xlabel('time')\n",
      "ylabel('Intensity')"
     ],
     "language": "python",
     "metadata": {},
     "outputs": [
      {
       "output_type": "pyout",
       "prompt_number": 8,
       "text": [
        "<matplotlib.text.Text at 0x10a4410d0>"
       ]
      },
      {
       "output_type": "display_data",
       "png": "[encoded data removed]"
      }
     ],
     "prompt_number": 8
    },
    {
     "cell_type": "code",
     "collapsed": false,
     "input": [],
     "language": "python",
     "metadata": {},
     "outputs": [],
     "prompt_number": 8
    },
    {
     "cell_type": "code",
     "collapsed": false,
     "input": [],
     "language": "python",
     "metadata": {},
     "outputs": [],
     "prompt_number": 7
    }
   ],
   "metadata": {}
  }
 ]
}