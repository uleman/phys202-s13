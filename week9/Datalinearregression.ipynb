{
 "metadata": {
  "name": "Datalinearregression"
 },
 "nbformat": 3,
 "nbformat_minor": 0,
 "worksheets": [
  {
   "cells": [
    {
     "cell_type": "code",
     "collapsed": false,
     "input": [
      "data=loadtxt('lineardata.dat')\n",
      "print data"
     ],
     "language": "python",
     "metadata": {},
     "outputs": [
      {
       "output_type": "stream",
       "stream": "stdout",
       "text": [
        "[[  1.     2.     3.     4.     5.     6.     7.     8.     9.    10.  ]\n",
        " [  7.75   7.33   6.89   6.45   5.96   5.55   5.1    4.49   3.93   3.58]\n",
        " [  0.02   0.03   0.03   0.04   0.05   0.06   0.08   0.11   0.14   0.17]]\n"
       ]
      }
     ],
     "prompt_number": 1
    },
    {
     "cell_type": "code",
     "collapsed": false,
     "input": [
      "x, y= loadtxt('lineardata.csv', unpack=True, delimiter = ',', usecols=[0,9])\n",
      "print x,y"
     ],
     "language": "python",
     "metadata": {},
     "outputs": [
      {
       "output_type": "stream",
       "stream": "stdout",
       "text": [
        "[ 1.    7.75  0.02] [ 10.     3.58   0.17]\n"
       ]
      }
     ],
     "prompt_number": 6
    },
    {
     "cell_type": "code",
     "collapsed": false,
     "input": [],
     "language": "python",
     "metadata": {},
     "outputs": [],
     "prompt_number": 3
    },
    {
     "cell_type": "code",
     "collapsed": false,
     "input": [],
     "language": "python",
     "metadata": {},
     "outputs": []
    }
   ],
   "metadata": {}
  }
 ]
}